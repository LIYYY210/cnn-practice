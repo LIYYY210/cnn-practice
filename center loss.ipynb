{
 "cells": [
  {
   "cell_type": "code",
   "execution_count": 6,
   "metadata": {},
   "outputs": [],
   "source": [
    "def center_loss(features,labels,alpha,num_classes):\n",
    "    len_feature = feature.get_shape()[1]\n",
    "    center = tf.get_variable('centers',[num_classes,len(features)],dtype=tf.float32,initializer=tf.constant_initializer(0),trainable=False)\n",
    "    labels = tf.reshape(labels,[-1])\n",
    "    center_batch = tf.gather(centers,labels)\n",
    "    loss = tf.nn.l2_loss(features - center_batch)\n",
    "    \n",
    "    diff = center_batch - features\n",
    "    unique_label,unique_idx,unique_count = tf.unique_with_counts(labels)\n",
    "    appear_time = tf.gather(unique_count,unique_idx)\n",
    "    appear_time = tf.reshape(appear_time,[1,-1])\n",
    "    diff = diff/tf.cast((1+appear_time),tf.float32)\n",
    "    diff = alpha*diff\n",
    "    centers = tf.scatter_sub(centers,labels,diff)\n",
    "    return loss,centers"
   ]
  },
  {
   "cell_type": "code",
   "execution_count": null,
   "metadata": {
    "collapsed": true
   },
   "outputs": [],
   "source": []
  }
 ],
 "metadata": {
  "kernelspec": {
   "display_name": "Python 3",
   "language": "python",
   "name": "python3"
  },
  "language_info": {
   "codemirror_mode": {
    "name": "ipython",
    "version": 3
   },
   "file_extension": ".py",
   "mimetype": "text/x-python",
   "name": "python",
   "nbconvert_exporter": "python",
   "pygments_lexer": "ipython3",
   "version": "3.5.4"
  }
 },
 "nbformat": 4,
 "nbformat_minor": 2
}
